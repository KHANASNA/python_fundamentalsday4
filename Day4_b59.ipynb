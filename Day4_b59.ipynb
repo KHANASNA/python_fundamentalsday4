{
 "cells": [
  {
   "cell_type": "code",
   "execution_count": null,
   "id": "b6cc3eca",
   "metadata": {},
   "outputs": [],
   "source": [
    "introduction to list datatypes:"
   ]
  },
  {
   "cell_type": "code",
   "execution_count": null,
   "id": "2a3b75a9",
   "metadata": {},
   "outputs": [],
   "source": [
    "defination: A list is a collection of items declared in a particular order.\n",
    "classification: it is classified as mutable datatype."
   ]
  },
  {
   "cell_type": "code",
   "execution_count": null,
   "id": "89c2c71b",
   "metadata": {},
   "outputs": [],
   "source": [
    "how to declare the list datatype...?"
   ]
  },
  {
   "cell_type": "code",
   "execution_count": 1,
   "id": "d362319e",
   "metadata": {},
   "outputs": [],
   "source": [
    "students= ['arvind','shafi','john','david','nusrat','aradhya','nitya','asna'] # 0,1,,2,3,4,5,6,7"
   ]
  },
  {
   "cell_type": "code",
   "execution_count": 2,
   "id": "9d4d5e73",
   "metadata": {},
   "outputs": [
    {
     "name": "stdout",
     "output_type": "stream",
     "text": [
      "['arvind', 'shafi', 'john', 'david', 'nusrat', 'aradhya', 'nitya', 'asna']\n"
     ]
    }
   ],
   "source": [
    "print(students)"
   ]
  },
  {
   "cell_type": "code",
   "execution_count": 3,
   "id": "83582c04",
   "metadata": {},
   "outputs": [
    {
     "data": {
      "text/plain": [
       "list"
      ]
     },
     "execution_count": 3,
     "metadata": {},
     "output_type": "execute_result"
    }
   ],
   "source": [
    "type(students)"
   ]
  },
  {
   "cell_type": "code",
   "execution_count": null,
   "id": "c35265ef",
   "metadata": {},
   "outputs": [],
   "source": [
    "# how to access the above elements from the list...?"
   ]
  },
  {
   "cell_type": "code",
   "execution_count": null,
   "id": "8484a43c",
   "metadata": {},
   "outputs": [],
   "source": [
    "introduction to indexing : 0,1,2,3...."
   ]
  },
  {
   "cell_type": "code",
   "execution_count": null,
   "id": "37828b8c",
   "metadata": {},
   "outputs": [],
   "source": [
    "#req : i want to access john name from the above list"
   ]
  },
  {
   "cell_type": "code",
   "execution_count": 4,
   "id": "a97c99df",
   "metadata": {},
   "outputs": [
    {
     "name": "stdout",
     "output_type": "stream",
     "text": [
      "john\n"
     ]
    }
   ],
   "source": [
    "print(students[2])"
   ]
  },
  {
   "cell_type": "code",
   "execution_count": 5,
   "id": "60bcd3b4",
   "metadata": {},
   "outputs": [
    {
     "name": "stdout",
     "output_type": "stream",
     "text": [
      "John\n"
     ]
    }
   ],
   "source": [
    "print(students[2].title())"
   ]
  },
  {
   "cell_type": "code",
   "execution_count": null,
   "id": "ca2e70c1",
   "metadata": {},
   "outputs": [],
   "source": [
    "1- how to add new elements to the list\n",
    "2- how to modify the elements in the list\n",
    "3- how to delete elements in the list"
   ]
  },
  {
   "cell_type": "code",
   "execution_count": 6,
   "id": "236da2bd",
   "metadata": {},
   "outputs": [
    {
     "name": "stdout",
     "output_type": "stream",
     "text": [
      "['arvind', 'shafi', 'john', 'david', 'nusrat', 'aradhya', 'nitya', 'asna']\n"
     ]
    }
   ],
   "source": [
    "print(students)"
   ]
  },
  {
   "cell_type": "code",
   "execution_count": null,
   "id": "766c188c",
   "metadata": {},
   "outputs": [],
   "source": [
    "#req : i want to add 'sachin' to the above list"
   ]
  },
  {
   "cell_type": "code",
   "execution_count": 7,
   "id": "5ddda0df",
   "metadata": {},
   "outputs": [],
   "source": [
    "students.append('sachin')"
   ]
  },
  {
   "cell_type": "code",
   "execution_count": 8,
   "id": "84e2a89b",
   "metadata": {},
   "outputs": [
    {
     "name": "stdout",
     "output_type": "stream",
     "text": [
      "['arvind', 'shafi', 'john', 'david', 'nusrat', 'aradhya', 'nitya', 'asna', 'sachin']\n"
     ]
    }
   ],
   "source": [
    "print(students)"
   ]
  },
  {
   "cell_type": "code",
   "execution_count": null,
   "id": "93a32b08",
   "metadata": {},
   "outputs": [],
   "source": [
    "#req: i want to add 'charan' name to the second index"
   ]
  },
  {
   "cell_type": "code",
   "execution_count": 9,
   "id": "e9b4a90d",
   "metadata": {},
   "outputs": [],
   "source": [
    "students.insert(2,'charan')"
   ]
  },
  {
   "cell_type": "code",
   "execution_count": 10,
   "id": "98ba9cf8",
   "metadata": {},
   "outputs": [
    {
     "name": "stdout",
     "output_type": "stream",
     "text": [
      "['arvind', 'shafi', 'charan', 'john', 'david', 'nusrat', 'aradhya', 'nitya', 'asna', 'sachin']\n"
     ]
    }
   ],
   "source": [
    "print(students)"
   ]
  },
  {
   "cell_type": "code",
   "execution_count": null,
   "id": "786f348c",
   "metadata": {},
   "outputs": [],
   "source": [
    "#req : to modify the elements in the list"
   ]
  },
  {
   "cell_type": "code",
   "execution_count": 11,
   "id": "a5df89d5",
   "metadata": {},
   "outputs": [
    {
     "name": "stdout",
     "output_type": "stream",
     "text": [
      "['arvind', 'shafi', 'charan', 'john', 'david', 'nusrat', 'aradhya', 'nitya', 'asna', 'sachin']\n"
     ]
    }
   ],
   "source": [
    "print(students)"
   ]
  },
  {
   "cell_type": "raw",
   "id": "85b522a4",
   "metadata": {},
   "source": []
  },
  {
   "cell_type": "code",
   "execution_count": null,
   "id": "6c251d75",
   "metadata": {},
   "outputs": [],
   "source": [
    "#req : i want to modify 'charan' name to 'chaitanya'"
   ]
  },
  {
   "cell_type": "code",
   "execution_count": 12,
   "id": "81eeae2e",
   "metadata": {},
   "outputs": [
    {
     "name": "stdout",
     "output_type": "stream",
     "text": [
      "charan\n"
     ]
    }
   ],
   "source": [
    "print(students[2])"
   ]
  },
  {
   "cell_type": "code",
   "execution_count": 13,
   "id": "502a0664",
   "metadata": {},
   "outputs": [],
   "source": [
    "students[2]= 'chaitanya'"
   ]
  },
  {
   "cell_type": "code",
   "execution_count": 14,
   "id": "3ed25774",
   "metadata": {},
   "outputs": [
    {
     "name": "stdout",
     "output_type": "stream",
     "text": [
      "['arvind', 'shafi', 'chaitanya', 'john', 'david', 'nusrat', 'aradhya', 'nitya', 'asna', 'sachin']\n"
     ]
    }
   ],
   "source": [
    "print(students)"
   ]
  },
  {
   "cell_type": "code",
   "execution_count": null,
   "id": "ea32f54b",
   "metadata": {},
   "outputs": [],
   "source": [
    "how to delete elements from the list"
   ]
  },
  {
   "cell_type": "code",
   "execution_count": 15,
   "id": "80bc66b8",
   "metadata": {},
   "outputs": [
    {
     "name": "stdout",
     "output_type": "stream",
     "text": [
      "['arvind', 'shafi', 'chaitanya', 'john', 'david', 'nusrat', 'aradhya', 'nitya', 'asna', 'sachin']\n"
     ]
    }
   ],
   "source": [
    "print(students)"
   ]
  },
  {
   "cell_type": "code",
   "execution_count": null,
   "id": "3372b12e",
   "metadata": {},
   "outputs": [],
   "source": [
    "#req: i want to delete 'david' from the above list"
   ]
  },
  {
   "cell_type": "code",
   "execution_count": 16,
   "id": "42b90081",
   "metadata": {},
   "outputs": [],
   "source": [
    "del students[4]"
   ]
  },
  {
   "cell_type": "code",
   "execution_count": 17,
   "id": "afd4eae3",
   "metadata": {},
   "outputs": [
    {
     "name": "stdout",
     "output_type": "stream",
     "text": [
      "['arvind', 'shafi', 'chaitanya', 'john', 'nusrat', 'aradhya', 'nitya', 'asna', 'sachin']\n"
     ]
    }
   ],
   "source": [
    "print(students)"
   ]
  },
  {
   "cell_type": "code",
   "execution_count": null,
   "id": "79361338",
   "metadata": {},
   "outputs": [],
   "source": []
  }
 ],
 "metadata": {
  "kernelspec": {
   "display_name": "Python 3 (ipykernel)",
   "language": "python",
   "name": "python3"
  },
  "language_info": {
   "codemirror_mode": {
    "name": "ipython",
    "version": 3
   },
   "file_extension": ".py",
   "mimetype": "text/x-python",
   "name": "python",
   "nbconvert_exporter": "python",
   "pygments_lexer": "ipython3",
   "version": "3.9.12"
  }
 },
 "nbformat": 4,
 "nbformat_minor": 5
}
